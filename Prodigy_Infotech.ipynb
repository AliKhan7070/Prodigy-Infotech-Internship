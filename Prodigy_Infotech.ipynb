{
 "cells": [
  {
   "cell_type": "code",
   "execution_count": 21,
   "id": "7b4d5dc6-f532-48a0-ab44-e7da3a36b989",
   "metadata": {},
   "outputs": [
    {
     "name": "stdout",
     "output_type": "stream",
     "text": [
      "Temperature Converter\n",
      "Choose the unit of the temperature you want to convert from:\n",
      "1. Celsius\n",
      "2. Fahrenheit\n",
      "3. Kelvin\n"
     ]
    },
    {
     "name": "stdout",
     "output_type": "stream",
     "text": [
      "Enter your choice (1/2/3):  1\n",
      "Enter the temperature value:  22\n"
     ]
    },
    {
     "name": "stdout",
     "output_type": "stream",
     "text": [
      "\n",
      "22.0 °C = 71.60 °F\n",
      "22.0 °C = 295.15 K\n"
     ]
    }
   ],
   "source": [
    "#Task 1\n",
    "# Function to convert Celsius to Fahrenheit and Kelvin\n",
    "def celsius_to_others(celsius):\n",
    "    fahrenheit = (celsius * 9/5) + 32\n",
    "    kelvin = celsius + 273.15\n",
    "    return fahrenheit, kelvin\n",
    "\n",
    "# Function to convert Fahrenheit to Celsius and Kelvin\n",
    "def fahrenheit_to_others(fahrenheit):\n",
    "    celsius = (fahrenheit - 32) * 5/9\n",
    "    kelvin = celsius + 273.15\n",
    "    return celsius, kelvin\n",
    "\n",
    "# Function to convert Kelvin to Celsius and Fahrenheit\n",
    "def kelvin_to_others(kelvin):\n",
    "    celsius = kelvin - 273.15\n",
    "    fahrenheit = (celsius * 9/5) + 32\n",
    "    return celsius, fahrenheit\n",
    "\n",
    "# Main program\n",
    "print(\"Temperature Converter\")\n",
    "print(\"Choose the unit of the temperature you want to convert from:\")\n",
    "print(\"1. Celsius\\n2. Fahrenheit\\n3. Kelvin\")\n",
    "\n",
    "try:\n",
    "    choice = int(input(\"Enter your choice (1/2/3): \"))\n",
    "    temperature = float(input(\"Enter the temperature value: \"))\n",
    "\n",
    "    if choice == 1:  # Celsius\n",
    "        fahrenheit, kelvin = celsius_to_others(temperature)\n",
    "        print(f\"\\n{temperature} °C = {fahrenheit:.2f} °F\")\n",
    "        print(f\"{temperature} °C = {kelvin:.2f} K\")\n",
    "    elif choice == 2:  # Fahrenheit\n",
    "        celsius, kelvin = fahrenheit_to_others(temperature)\n",
    "        print(f\"\\n{temperature} °F = {celsius:.2f} °C\")\n",
    "        print(f\"{temperature} °F = {kelvin:.2f} K\")\n",
    "    elif choice == 3:  # Kelvin\n",
    "        celsius, fahrenheit = kelvin_to_others(temperature)\n",
    "        print(f\"\\n{temperature} K = {celsius:.2f} °C\")\n",
    "        print(f\"{temperature} K = {fahrenheit:.2f} °F\")\n",
    "    else:\n",
    "        print(\"Invalid choice! Please enter 1, 2, or 3.\")\n",
    "except ValueError:\n",
    "    print(\"Invalid input! Please enter numeric values.\")\n"
   ]
  },
  {
   "cell_type": "code",
   "execution_count": 2,
   "id": "3476b186-1586-420c-a2df-ac4e7a321bdf",
   "metadata": {},
   "outputs": [
    {
     "name": "stdout",
     "output_type": "stream",
     "text": [
      "Guess a number between 1 and 100:  34\n"
     ]
    },
    {
     "name": "stdout",
     "output_type": "stream",
     "text": [
      "Too low! Try again.\n"
     ]
    },
    {
     "name": "stdout",
     "output_type": "stream",
     "text": [
      "Guess a number between 1 and 100:  2\n"
     ]
    },
    {
     "name": "stdout",
     "output_type": "stream",
     "text": [
      "Too low! Try again.\n"
     ]
    },
    {
     "name": "stdout",
     "output_type": "stream",
     "text": [
      "Guess a number between 1 and 100:  23\n"
     ]
    },
    {
     "name": "stdout",
     "output_type": "stream",
     "text": [
      "Too low! Try again.\n"
     ]
    },
    {
     "name": "stdout",
     "output_type": "stream",
     "text": [
      "Guess a number between 1 and 100:  67\n"
     ]
    },
    {
     "name": "stdout",
     "output_type": "stream",
     "text": [
      "Too high! Try again.\n"
     ]
    },
    {
     "name": "stdout",
     "output_type": "stream",
     "text": [
      "Guess a number between 1 and 100:  50\n"
     ]
    },
    {
     "name": "stdout",
     "output_type": "stream",
     "text": [
      "Too low! Try again.\n"
     ]
    },
    {
     "name": "stdout",
     "output_type": "stream",
     "text": [
      "Guess a number between 1 and 100:  51\n"
     ]
    },
    {
     "name": "stdout",
     "output_type": "stream",
     "text": [
      "Too low! Try again.\n"
     ]
    },
    {
     "name": "stdout",
     "output_type": "stream",
     "text": [
      "Guess a number between 1 and 100:  13\n"
     ]
    },
    {
     "name": "stdout",
     "output_type": "stream",
     "text": [
      "Too low! Try again.\n"
     ]
    },
    {
     "name": "stdout",
     "output_type": "stream",
     "text": [
      "Guess a number between 1 and 100:  1\n"
     ]
    },
    {
     "name": "stdout",
     "output_type": "stream",
     "text": [
      "Too low! Try again.\n"
     ]
    },
    {
     "name": "stdout",
     "output_type": "stream",
     "text": [
      "Guess a number between 1 and 100:  2\n"
     ]
    },
    {
     "name": "stdout",
     "output_type": "stream",
     "text": [
      "Too low! Try again.\n"
     ]
    },
    {
     "name": "stdout",
     "output_type": "stream",
     "text": [
      "Guess a number between 1 and 100:  3\n"
     ]
    },
    {
     "name": "stdout",
     "output_type": "stream",
     "text": [
      "Too low! Try again.\n"
     ]
    },
    {
     "name": "stdout",
     "output_type": "stream",
     "text": [
      "Guess a number between 1 and 100:  4\n"
     ]
    },
    {
     "name": "stdout",
     "output_type": "stream",
     "text": [
      "Too low! Try again.\n"
     ]
    },
    {
     "name": "stdout",
     "output_type": "stream",
     "text": [
      "Guess a number between 1 and 100:  45\n"
     ]
    },
    {
     "name": "stdout",
     "output_type": "stream",
     "text": [
      "Too low! Try again.\n"
     ]
    },
    {
     "name": "stdout",
     "output_type": "stream",
     "text": [
      "Guess a number between 1 and 100:  61\n"
     ]
    },
    {
     "name": "stdout",
     "output_type": "stream",
     "text": [
      "Too high! Try again.\n"
     ]
    },
    {
     "name": "stdout",
     "output_type": "stream",
     "text": [
      "Guess a number between 1 and 100:  60\n"
     ]
    },
    {
     "name": "stdout",
     "output_type": "stream",
     "text": [
      "Congratulations! You guessed the number 60 in 14 attempts.\n"
     ]
    }
   ],
   "source": [
    "#Task 2\n",
    "import random\n",
    "\n",
    "# Function to generate the random number and prompt the user to guess\n",
    "def guessing_game():\n",
    "    # Generate a random number between 1 and 100\n",
    "    random_number = random.randint(1, 100)\n",
    "    \n",
    "    # Initialize the number of attempts\n",
    "    attempts = 0\n",
    "    guess = None\n",
    "    \n",
    "    # Loop until the user guesses the correct number\n",
    "    while guess != random_number:\n",
    "        # Prompt the user for their guess\n",
    "        guess = int(input(\"Guess a number between 1 and 100: \"))\n",
    "        \n",
    "        # Increment the number of attempts\n",
    "        attempts += 1\n",
    "        \n",
    "        # Compare the guess to the random number and provide feedback\n",
    "        if guess < random_number:\n",
    "            print(\"Too low! Try again.\")\n",
    "        elif guess > random_number:\n",
    "            print(\"Too high! Try again.\")\n",
    "    \n",
    "    # Inform the user that they have guessed correctly\n",
    "    print(f\"Congratulations! You guessed the number {random_number} in {attempts} attempts.\")\n",
    "\n",
    "# Call the function to start the game\n",
    "guessing_game()\n"
   ]
  },
  {
   "cell_type": "code",
   "execution_count": 3,
   "id": "0066340e-c2ed-44f7-b148-8d456b3642b4",
   "metadata": {},
   "outputs": [
    {
     "name": "stdout",
     "output_type": "stream",
     "text": [
      "\n",
      "Contact Manager\n",
      "1. Add Contact\n",
      "2. View Contacts\n",
      "3. Edit Contact\n",
      "4. Delete Contact\n",
      "5. Exit\n"
     ]
    },
    {
     "name": "stdout",
     "output_type": "stream",
     "text": [
      "Enter your choice:  1\n",
      "Enter name:  Ali\n",
      "Enter phone number:  57385838\n",
      "Enter email address:  alik234\n"
     ]
    },
    {
     "name": "stdout",
     "output_type": "stream",
     "text": [
      "Contact added successfully!\n",
      "\n",
      "Contact Manager\n",
      "1. Add Contact\n",
      "2. View Contacts\n",
      "3. Edit Contact\n",
      "4. Delete Contact\n",
      "5. Exit\n"
     ]
    },
    {
     "name": "stdout",
     "output_type": "stream",
     "text": [
      "Enter your choice:  \n"
     ]
    },
    {
     "name": "stdout",
     "output_type": "stream",
     "text": [
      "Invalid choice. Please try again.\n",
      "\n",
      "Contact Manager\n",
      "1. Add Contact\n",
      "2. View Contacts\n",
      "3. Edit Contact\n",
      "4. Delete Contact\n",
      "5. Exit\n"
     ]
    },
    {
     "name": "stdout",
     "output_type": "stream",
     "text": [
      "Enter your choice:  2\n"
     ]
    },
    {
     "name": "stdout",
     "output_type": "stream",
     "text": [
      "1. Name: Ali, Phone: 57385838, Email: alik234\n",
      "\n",
      "Contact Manager\n",
      "1. Add Contact\n",
      "2. View Contacts\n",
      "3. Edit Contact\n",
      "4. Delete Contact\n",
      "5. Exit\n"
     ]
    },
    {
     "name": "stdout",
     "output_type": "stream",
     "text": [
      "Enter your choice:  5\n"
     ]
    },
    {
     "name": "stdout",
     "output_type": "stream",
     "text": [
      "Goodbye!\n"
     ]
    }
   ],
   "source": [
    "#Task 3\n",
    "import os\n",
    "import pickle\n",
    "\n",
    "# Define a Contact class to store individual contact details\n",
    "class Contact:\n",
    "    def __init__(self, name, phone_number, email):\n",
    "        self.name = name\n",
    "        self.phone_number = phone_number\n",
    "        self.email = email\n",
    "\n",
    "    def __str__(self):\n",
    "        return f\"Name: {self.name}, Phone: {self.phone_number}, Email: {self.email}\"\n",
    "\n",
    "# Function to load contacts from file\n",
    "def load_contacts():\n",
    "    if os.path.exists(\"contacts.pkl\"):\n",
    "        with open(\"contacts.pkl\", \"rb\") as file:\n",
    "            return pickle.load(file)\n",
    "    return []\n",
    "\n",
    "# Function to save contacts to file\n",
    "def save_contacts(contacts):\n",
    "    with open(\"contacts.pkl\", \"wb\") as file:\n",
    "        pickle.dump(contacts, file)\n",
    "\n",
    "# Function to add a new contact\n",
    "def add_contact(contacts):\n",
    "    name = input(\"Enter name: \")\n",
    "    phone_number = input(\"Enter phone number: \")\n",
    "    email = input(\"Enter email address: \")\n",
    "    contact = Contact(name, phone_number, email)\n",
    "    contacts.append(contact)\n",
    "    save_contacts(contacts)\n",
    "    print(\"Contact added successfully!\")\n",
    "\n",
    "# Function to display all contacts\n",
    "def view_contacts(contacts):\n",
    "    if contacts:\n",
    "        for idx, contact in enumerate(contacts, 1):\n",
    "            print(f\"{idx}. {contact}\")\n",
    "    else:\n",
    "        print(\"No contacts found.\")\n",
    "\n",
    "# Function to edit an existing contact\n",
    "def edit_contact(contacts):\n",
    "    view_contacts(contacts)\n",
    "    try:\n",
    "        contact_idx = int(input(\"Enter the contact number to edit: \")) - 1\n",
    "        if 0 <= contact_idx < len(contacts):\n",
    "            print(\"Editing contact:\", contacts[contact_idx])\n",
    "            name = input(\"Enter new name (leave blank to keep current): \")\n",
    "            phone_number = input(\"Enter new phone number (leave blank to keep current): \")\n",
    "            email = input(\"Enter new email address (leave blank to keep current): \")\n",
    "\n",
    "            if name:\n",
    "                contacts[contact_idx].name = name\n",
    "            if phone_number:\n",
    "                contacts[contact_idx].phone_number = phone_number\n",
    "            if email:\n",
    "                contacts[contact_idx].email = email\n",
    "\n",
    "            save_contacts(contacts)\n",
    "            print(\"Contact updated successfully!\")\n",
    "        else:\n",
    "            print(\"Invalid contact number.\")\n",
    "    except ValueError:\n",
    "        print(\"Please enter a valid number.\")\n",
    "\n",
    "# Function to delete an existing contact\n",
    "def delete_contact(contacts):\n",
    "    view_contacts(contacts)\n",
    "    try:\n",
    "        contact_idx = int(input(\"Enter the contact number to delete: \")) - 1\n",
    "        if 0 <= contact_idx < len(contacts):\n",
    "            del contacts[contact_idx]\n",
    "            save_contacts(contacts)\n",
    "            print(\"Contact deleted successfully!\")\n",
    "        else:\n",
    "            print(\"Invalid contact number.\")\n",
    "    except ValueError:\n",
    "        print(\"Please enter a valid number.\")\n",
    "\n",
    "# Main function to handle the menu and user input\n",
    "def main():\n",
    "    contacts = load_contacts()\n",
    "    while True:\n",
    "        print(\"\\nContact Manager\")\n",
    "        print(\"1. Add Contact\")\n",
    "        print(\"2. View Contacts\")\n",
    "        print(\"3. Edit Contact\")\n",
    "        print(\"4. Delete Contact\")\n",
    "        print(\"5. Exit\")\n",
    "\n",
    "        choice = input(\"Enter your choice: \")\n",
    "        if choice == '1':\n",
    "            add_contact(contacts)\n",
    "        elif choice == '2':\n",
    "            view_contacts(contacts)\n",
    "        elif choice == '3':\n",
    "            edit_contact(contacts)\n",
    "        elif choice == '4':\n",
    "            delete_contact(contacts)\n",
    "        elif choice == '5':\n",
    "            print(\"Goodbye!\")\n",
    "            break\n",
    "        else:\n",
    "            print(\"Invalid choice. Please try again.\")\n",
    "\n",
    "# Run the program\n",
    "if __name__ == \"__main__\":\n",
    "    main()\n"
   ]
  },
  {
   "cell_type": "code",
   "execution_count": 7,
   "id": "299dec20-a431-45df-952b-19caa4157d8c",
   "metadata": {},
   "outputs": [
    {
     "name": "stdout",
     "output_type": "stream",
     "text": [
      "Initial Sudoku Puzzle:\n",
      "5 3 . . 7 . . . .\n",
      "6 . . 1 9 5 . . .\n",
      ". 9 8 . . . . 6 .\n",
      "8 . . . 6 . . . 3\n",
      "4 . . 8 . 3 . . 1\n",
      "7 . . . 2 . . . 6\n",
      ". 6 . . . . 2 8 .\n",
      ". . . 4 1 9 . . 5\n",
      ". . . . 8 . . 7 9\n",
      "\n",
      "Solved Sudoku Puzzle:\n",
      "5 3 4 6 7 8 9 1 2\n",
      "6 7 2 1 9 5 3 4 8\n",
      "1 9 8 3 4 2 5 6 7\n",
      "8 5 9 7 6 1 4 2 3\n",
      "4 2 6 8 5 3 7 9 1\n",
      "7 1 3 9 2 4 8 5 6\n",
      "9 6 1 5 3 7 2 8 4\n",
      "2 8 7 4 1 9 6 3 5\n",
      "3 4 5 2 8 6 1 7 9\n"
     ]
    }
   ],
   "source": [
    "#Task 4 \n",
    "# Function to print the Sudoku grid\n",
    "def print_grid(grid):\n",
    "    for row in grid:\n",
    "        print(\" \".join(str(num) if num != 0 else '.' for num in row))\n",
    "\n",
    "# Function to check if it's safe to place a number in a given position\n",
    "def is_safe(grid, row, col, num):\n",
    "    # Check if the number is in the same row\n",
    "    for x in range(9):\n",
    "        if grid[row][x] == num:\n",
    "            return False\n",
    "    \n",
    "    # Check if the number is in the same column\n",
    "    for x in range(9):\n",
    "        if grid[x][col] == num:\n",
    "            return False\n",
    "    \n",
    "    # Check if the number is in the same 3x3 subgrid\n",
    "    start_row, start_col = 3 * (row // 3), 3 * (col // 3)\n",
    "    for i in range(3):\n",
    "        for j in range(3):\n",
    "            if grid[start_row + i][start_col + j] == num:\n",
    "                return False\n",
    "    \n",
    "    return True\n",
    "\n",
    "# Backtracking function to solve the Sudoku puzzle\n",
    "def solve_sudoku(grid):\n",
    "    empty = find_empty_location(grid)\n",
    "    if not empty:\n",
    "        return True  # Puzzle solved\n",
    "    \n",
    "    row, col = empty\n",
    "    \n",
    "    for num in range(1, 10):  # Try numbers 1-9\n",
    "        if is_safe(grid, row, col, num):\n",
    "            grid[row][col] = num  # Place the number\n",
    "\n",
    "            if solve_sudoku(grid):  # Recursively try to solve with this number\n",
    "                return True\n",
    "            \n",
    "            # Backtrack if placing num didn't lead to a solution\n",
    "            grid[row][col] = 0\n",
    "    \n",
    "    return False  # Trigger backtracking\n",
    "\n",
    "# Function to find an empty location (represented by 0) in the grid\n",
    "def find_empty_location(grid):\n",
    "    for i in range(9):\n",
    "        for j in range(9):\n",
    "            if grid[i][j] == 0:\n",
    "                return (i, j)\n",
    "    return None\n",
    "\n",
    "# Main function to take an unsolved Sudoku puzzle and solve it\n",
    "def main():\n",
    "    # Example Sudoku puzzle (0 represents empty cells)\n",
    "    grid = [\n",
    "        [5, 3, 0, 0, 7, 0, 0, 0, 0],\n",
    "        [6, 0, 0, 1, 9, 5, 0, 0, 0],\n",
    "        [0, 9, 8, 0, 0, 0, 0, 6, 0],\n",
    "        [8, 0, 0, 0, 6, 0, 0, 0, 3],\n",
    "        [4, 0, 0, 8, 0, 3, 0, 0, 1],\n",
    "        [7, 0, 0, 0, 2, 0, 0, 0, 6],\n",
    "        [0, 6, 0, 0, 0, 0, 2, 8, 0],\n",
    "        [0, 0, 0, 4, 1, 9, 0, 0, 5],\n",
    "        [0, 0, 0, 0, 8, 0, 0, 7, 9]\n",
    "    ]\n",
    "\n",
    "    print(\"Initial Sudoku Puzzle:\")\n",
    "    print_grid(grid)\n",
    "    \n",
    "    if solve_sudoku(grid):\n",
    "        print(\"\\nSolved Sudoku Puzzle:\")\n",
    "        print_grid(grid)\n",
    "    else:\n",
    "        print(\"No solution exists.\")\n",
    "\n",
    "# Run the main function\n",
    "if __name__ == \"__main__\":\n",
    "    main()\n"
   ]
  },
  {
   "cell_type": "code",
   "execution_count": 20,
   "id": "5da70351-e817-426e-967b-b37c5a1b49d6",
   "metadata": {},
   "outputs": [
    {
     "name": "stdout",
     "output_type": "stream",
     "text": [
      "Product data has been saved to 'ebay_products.csv'.\n"
     ]
    }
   ],
   "source": [
    "#Task  \n",
    "import requests\n",
    "from bs4 import BeautifulSoup\n",
    "import pandas as pd\n",
    "\n",
    "# Function to scrape product data from eBay\n",
    "def scrape_ebay_products():\n",
    "    # URL of the eBay search results page (example: laptops search on eBay)\n",
    "    url = \"https://www.ebay.com/sch/i.html?_nkw=laptops\"\n",
    "\n",
    "    # Send a GET request to the website\n",
    "    headers = {\n",
    "        \"User-Agent\": \"Mozilla/5.0 (Windows NT 10.0; Win64; x64) AppleWebKit/537.36 (KHTML, like Gecko) Chrome/91.0.4472.124 Safari/537.36\"\n",
    "    }\n",
    "    response = requests.get(url, headers=headers)\n",
    "    soup = BeautifulSoup(response.content, \"html.parser\")\n",
    "\n",
    "    # Find all the product containers on the page\n",
    "    products = soup.find_all(\"li\", {\"class\": \"s-item\"})\n",
    "\n",
    "    # Initialize lists to store the extracted data\n",
    "    product_names = []\n",
    "    product_prices = []\n",
    "    product_ratings = []\n",
    "\n",
    "    # Loop through each product container and extract the data\n",
    "    for product in products:\n",
    "        name = product.find(\"h3\", {\"class\": \"s-item__title\"})\n",
    "        price = product.find(\"span\", {\"class\": \"s-item__price\"})\n",
    "        rating = product.find(\"div\", {\"class\": \"x-star-rating\"})\n",
    "        \n",
    "        # Add the data to the lists (check if data exists)\n",
    "        if name:\n",
    "            product_names.append(name.get_text())\n",
    "        else:\n",
    "            product_names.append(\"No name found\")\n",
    "        \n",
    "        if price:\n",
    "            product_prices.append(price.get_text())\n",
    "        else:\n",
    "            product_prices.append(\"No price found\")\n",
    "        \n",
    "        if rating:\n",
    "            product_ratings.append(rating.get_text().strip())\n",
    "        else:\n",
    "            product_ratings.append(\"No rating found\")\n",
    "    \n",
    "    # Create a DataFrame to store the data\n",
    "    product_data = pd.DataFrame({\n",
    "        \"Product Name\": product_names,\n",
    "        \"Price\": product_prices,\n",
    "        \"Rating\": product_ratings\n",
    "    })\n",
    "\n",
    "    # Save the data to a CSV file\n",
    "    product_data.to_csv(\"ebay_products.csv\", index=False)\n",
    "\n",
    "    print(\"Product data has been saved to 'ebay_products.csv'.\")\n",
    "\n",
    "# Run the function\n",
    "scrape_ebay_products()\n"
   ]
  }
 ],
 "metadata": {
  "kernelspec": {
   "display_name": "Python 3 (ipykernel)",
   "language": "python",
   "name": "python3"
  },
  "language_info": {
   "codemirror_mode": {
    "name": "ipython",
    "version": 3
   },
   "file_extension": ".py",
   "mimetype": "text/x-python",
   "name": "python",
   "nbconvert_exporter": "python",
   "pygments_lexer": "ipython3",
   "version": "3.11.5"
  },
  "widgets": {
   "application/vnd.jupyter.widget-state+json": {
    "state": {},
    "version_major": 2,
    "version_minor": 0
   }
  }
 },
 "nbformat": 4,
 "nbformat_minor": 5
}
